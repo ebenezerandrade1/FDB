{
 "cells": [
  {
   "cell_type": "code",
   "execution_count": 1,
   "id": "b2b3bddc-0233-492e-8678-2f47a88413dc",
   "metadata": {},
   "outputs": [],
   "source": [
    "import pandas as pd\n",
    "from sqlalchemy import create_engine, text"
   ]
  },
  {
   "cell_type": "code",
   "execution_count": 2,
   "id": "6be81a4e-74c3-495a-91c6-45cf0b7687bc",
   "metadata": {},
   "outputs": [],
   "source": [
    "# Caminho do arquivo XLS\n",
    "arquivo = \"../Data/IBGE/RELATORIO_DTB_BRASIL_MUNICIPIO.xls\""
   ]
  },
  {
   "cell_type": "code",
   "execution_count": 3,
   "id": "037959d1-6a59-40ea-af2f-e006813468dc",
   "metadata": {},
   "outputs": [
    {
     "name": "stdout",
     "output_type": "stream",
     "text": [
      "Requirement already satisfied: xlrd in c:\\users\\geiso\\anaconda3\\lib\\site-packages (2.0.1)\n"
     ]
    }
   ],
   "source": [
    "!pip install xlrd"
   ]
  },
  {
   "cell_type": "code",
   "execution_count": 4,
   "id": "14c90520-07fe-4a3a-b3bb-2b8ee022ab6f",
   "metadata": {},
   "outputs": [
    {
     "name": "stdout",
     "output_type": "stream",
     "text": [
      "WARNING *** OLE2 inconsistency: SSCS size is 0 but SSAT size is non-zero\n",
      "*** No CODEPAGE record, no encoding_override: will use 'iso-8859-1'\n"
     ]
    }
   ],
   "source": [
    "# Carregar o arquivo XLS ignorando as 6 primeiras linhas (começa da linha 7)\n",
    "df_municipios = pd.read_excel(arquivo, skiprows=6)"
   ]
  },
  {
   "cell_type": "code",
   "execution_count": 5,
   "id": "3ca46229-2d65-4b06-bfd0-646380145206",
   "metadata": {},
   "outputs": [],
   "source": [
    "siglas_estados = {\n",
    "    \"Acre\": \"AC\", \"Alagoas\": \"AL\", \"Amapá\": \"AP\", \"Amazonas\": \"AM\", \"Bahia\": \"BA\",\n",
    "    \"Ceará\": \"CE\", \"Distrito Federal\": \"DF\", \"Espírito Santo\": \"ES\", \"Goiás\": \"GO\",\n",
    "    \"Maranhão\": \"MA\", \"Mato Grosso\": \"MT\", \"Mato Grosso do Sul\": \"MS\", \"Minas Gerais\": \"MG\",\n",
    "    \"Pará\": \"PA\", \"Paraíba\": \"PB\", \"Paraná\": \"PR\", \"Pernambuco\": \"PE\", \"Piauí\": \"PI\",\n",
    "    \"Rio de Janeiro\": \"RJ\", \"Rio Grande do Norte\": \"RN\", \"Rio Grande do Sul\": \"RS\",\n",
    "    \"Rondônia\": \"RO\", \"Roraima\": \"RR\", \"Santa Catarina\": \"SC\", \"São Paulo\": \"SP\",\n",
    "    \"Sergipe\": \"SE\", \"Tocantins\": \"TO\"\n",
    "}\n"
   ]
  },
  {
   "cell_type": "code",
   "execution_count": 6,
   "id": "cf27bbb5-76f6-43a0-9f48-dc9a59865786",
   "metadata": {},
   "outputs": [],
   "source": [
    "estados_regioes = {\n",
    "    'Norte': ['AC', 'AP', 'AM', 'PA', 'RO', 'RR', 'TO'],\n",
    "    'Nordeste': ['AL', 'BA', 'CE', 'MA', 'PB', 'PE', 'PI', 'RN', 'SE'],\n",
    "    'Centro-Oeste': ['DF', 'GO', 'MT', 'MS'],\n",
    "    'Sudeste': ['ES', 'MG', 'RJ', 'SP'],\n",
    "    'Sul': ['PR', 'RS', 'SC']\n",
    "}"
   ]
  },
  {
   "cell_type": "code",
   "execution_count": 7,
   "id": "bb4ddcf0-e9c8-404c-afa2-962976ef9c8c",
   "metadata": {},
   "outputs": [],
   "source": [
    "df_municipios[\"UF\"] = df_municipios[\"Nome_UF\"].map(siglas_estados)\n"
   ]
  },
  {
   "cell_type": "code",
   "execution_count": 8,
   "id": "1f11e5dd-0e0b-4264-96f4-6e5dbcb1563f",
   "metadata": {},
   "outputs": [],
   "source": [
    "# 🔹 **Função para mapear estados para regiões**\n",
    "def definir_regiao(uf):\n",
    "    for regiao, estados in estados_regioes.items():\n",
    "        if uf in estados:\n",
    "            return regiao\n",
    "    return 'Desconhecido'  # Caso algum estado não esteja mapeado\n",
    "\n",
    "# 🔹 **Adicionar a nova coluna regiao**\n",
    "df_municipios['regiao'] = df_municipios['UF'].apply(definir_regiao)"
   ]
  },
  {
   "cell_type": "code",
   "execution_count": 9,
   "id": "0ed49b72-4a62-4607-add2-f0aacc77a4c0",
   "metadata": {},
   "outputs": [],
   "source": [
    "df_localizacoes = df_municipios[['Código Município Completo','Nome_Município','UF','regiao']]"
   ]
  },
  {
   "cell_type": "code",
   "execution_count": 10,
   "id": "558091af-13b2-43e7-a76f-1ed96f73e949",
   "metadata": {},
   "outputs": [
    {
     "data": {
      "text/html": [
       "<div>\n",
       "<style scoped>\n",
       "    .dataframe tbody tr th:only-of-type {\n",
       "        vertical-align: middle;\n",
       "    }\n",
       "\n",
       "    .dataframe tbody tr th {\n",
       "        vertical-align: top;\n",
       "    }\n",
       "\n",
       "    .dataframe thead th {\n",
       "        text-align: right;\n",
       "    }\n",
       "</style>\n",
       "<table border=\"1\" class=\"dataframe\">\n",
       "  <thead>\n",
       "    <tr style=\"text-align: right;\">\n",
       "      <th></th>\n",
       "      <th>Código Município Completo</th>\n",
       "      <th>Nome_Município</th>\n",
       "      <th>UF</th>\n",
       "      <th>regiao</th>\n",
       "    </tr>\n",
       "  </thead>\n",
       "  <tbody>\n",
       "    <tr>\n",
       "      <th>0</th>\n",
       "      <td>1100015</td>\n",
       "      <td>Alta Floresta D'Oeste</td>\n",
       "      <td>RO</td>\n",
       "      <td>Norte</td>\n",
       "    </tr>\n",
       "    <tr>\n",
       "      <th>1</th>\n",
       "      <td>1100379</td>\n",
       "      <td>Alto Alegre dos Parecis</td>\n",
       "      <td>RO</td>\n",
       "      <td>Norte</td>\n",
       "    </tr>\n",
       "    <tr>\n",
       "      <th>2</th>\n",
       "      <td>1100403</td>\n",
       "      <td>Alto Paraíso</td>\n",
       "      <td>RO</td>\n",
       "      <td>Norte</td>\n",
       "    </tr>\n",
       "    <tr>\n",
       "      <th>3</th>\n",
       "      <td>1100346</td>\n",
       "      <td>Alvorada D'Oeste</td>\n",
       "      <td>RO</td>\n",
       "      <td>Norte</td>\n",
       "    </tr>\n",
       "    <tr>\n",
       "      <th>4</th>\n",
       "      <td>1100023</td>\n",
       "      <td>Ariquemes</td>\n",
       "      <td>RO</td>\n",
       "      <td>Norte</td>\n",
       "    </tr>\n",
       "  </tbody>\n",
       "</table>\n",
       "</div>"
      ],
      "text/plain": [
       "   Código Município Completo           Nome_Município  UF regiao\n",
       "0                    1100015    Alta Floresta D'Oeste  RO  Norte\n",
       "1                    1100379  Alto Alegre dos Parecis  RO  Norte\n",
       "2                    1100403             Alto Paraíso  RO  Norte\n",
       "3                    1100346         Alvorada D'Oeste  RO  Norte\n",
       "4                    1100023                Ariquemes  RO  Norte"
      ]
     },
     "execution_count": 10,
     "metadata": {},
     "output_type": "execute_result"
    }
   ],
   "source": [
    "df_localizacoes.head()"
   ]
  },
  {
   "cell_type": "code",
   "execution_count": 11,
   "id": "4550db04-3c0c-465c-9399-a039294c8bb5",
   "metadata": {},
   "outputs": [
    {
     "name": "stdout",
     "output_type": "stream",
     "text": [
      "<class 'pandas.core.frame.DataFrame'>\n",
      "RangeIndex: 5570 entries, 0 to 5569\n",
      "Data columns (total 4 columns):\n",
      " #   Column                     Non-Null Count  Dtype \n",
      "---  ------                     --------------  ----- \n",
      " 0   Código Município Completo  5570 non-null   int64 \n",
      " 1   Nome_Município             5570 non-null   object\n",
      " 2   UF                         5570 non-null   object\n",
      " 3   regiao                     5570 non-null   object\n",
      "dtypes: int64(1), object(3)\n",
      "memory usage: 174.2+ KB\n"
     ]
    }
   ],
   "source": [
    "df_localizacoes.info()"
   ]
  },
  {
   "cell_type": "code",
   "execution_count": 12,
   "id": "68178db4-6bdf-4c3a-9888-a24d3352b8ee",
   "metadata": {},
   "outputs": [
    {
     "name": "stderr",
     "output_type": "stream",
     "text": [
      "C:\\Users\\geiso\\AppData\\Local\\Temp\\ipykernel_27624\\2848960553.py:2: SettingWithCopyWarning: \n",
      "A value is trying to be set on a copy of a slice from a DataFrame\n",
      "\n",
      "See the caveats in the documentation: https://pandas.pydata.org/pandas-docs/stable/user_guide/indexing.html#returning-a-view-versus-a-copy\n",
      "  df_localizacoes.rename(columns={\n"
     ]
    }
   ],
   "source": [
    "# 🔹 **Renomear colunas para padronização**\n",
    "df_localizacoes.rename(columns={\n",
    "    'Código Município Completo': 'id_local',\n",
    "    'Nome_Município': 'municipio',\n",
    "    'UF': 'estado'\n",
    "}, inplace=True)"
   ]
  },
  {
   "cell_type": "code",
   "execution_count": 13,
   "id": "c87dff8f-a4c9-424e-b57b-a1a0748fb4c4",
   "metadata": {},
   "outputs": [
    {
     "data": {
      "text/html": [
       "<div>\n",
       "<style scoped>\n",
       "    .dataframe tbody tr th:only-of-type {\n",
       "        vertical-align: middle;\n",
       "    }\n",
       "\n",
       "    .dataframe tbody tr th {\n",
       "        vertical-align: top;\n",
       "    }\n",
       "\n",
       "    .dataframe thead th {\n",
       "        text-align: right;\n",
       "    }\n",
       "</style>\n",
       "<table border=\"1\" class=\"dataframe\">\n",
       "  <thead>\n",
       "    <tr style=\"text-align: right;\">\n",
       "      <th></th>\n",
       "      <th>id_local</th>\n",
       "      <th>municipio</th>\n",
       "      <th>estado</th>\n",
       "      <th>regiao</th>\n",
       "    </tr>\n",
       "  </thead>\n",
       "  <tbody>\n",
       "    <tr>\n",
       "      <th>0</th>\n",
       "      <td>1100015</td>\n",
       "      <td>Alta Floresta D'Oeste</td>\n",
       "      <td>RO</td>\n",
       "      <td>Norte</td>\n",
       "    </tr>\n",
       "    <tr>\n",
       "      <th>1</th>\n",
       "      <td>1100379</td>\n",
       "      <td>Alto Alegre dos Parecis</td>\n",
       "      <td>RO</td>\n",
       "      <td>Norte</td>\n",
       "    </tr>\n",
       "    <tr>\n",
       "      <th>2</th>\n",
       "      <td>1100403</td>\n",
       "      <td>Alto Paraíso</td>\n",
       "      <td>RO</td>\n",
       "      <td>Norte</td>\n",
       "    </tr>\n",
       "    <tr>\n",
       "      <th>3</th>\n",
       "      <td>1100346</td>\n",
       "      <td>Alvorada D'Oeste</td>\n",
       "      <td>RO</td>\n",
       "      <td>Norte</td>\n",
       "    </tr>\n",
       "    <tr>\n",
       "      <th>4</th>\n",
       "      <td>1100023</td>\n",
       "      <td>Ariquemes</td>\n",
       "      <td>RO</td>\n",
       "      <td>Norte</td>\n",
       "    </tr>\n",
       "  </tbody>\n",
       "</table>\n",
       "</div>"
      ],
      "text/plain": [
       "   id_local                municipio estado regiao\n",
       "0   1100015    Alta Floresta D'Oeste     RO  Norte\n",
       "1   1100379  Alto Alegre dos Parecis     RO  Norte\n",
       "2   1100403             Alto Paraíso     RO  Norte\n",
       "3   1100346         Alvorada D'Oeste     RO  Norte\n",
       "4   1100023                Ariquemes     RO  Norte"
      ]
     },
     "execution_count": 13,
     "metadata": {},
     "output_type": "execute_result"
    }
   ],
   "source": [
    "df_localizacoes.head()"
   ]
  },
  {
   "cell_type": "code",
   "execution_count": 14,
   "id": "27fb0233-84cb-48c3-9319-3ad18888b935",
   "metadata": {},
   "outputs": [],
   "source": [
    "# Remover o último digito da direita para a esquerda\n",
    "df_localizacoes.loc[:, 'id_local'] = df_localizacoes['id_local'].astype(str).str[:-1].astype(int)"
   ]
  },
  {
   "cell_type": "code",
   "execution_count": 15,
   "id": "20bc3571-0011-478c-9b75-59f3c9d0be59",
   "metadata": {},
   "outputs": [
    {
     "data": {
      "text/html": [
       "<div>\n",
       "<style scoped>\n",
       "    .dataframe tbody tr th:only-of-type {\n",
       "        vertical-align: middle;\n",
       "    }\n",
       "\n",
       "    .dataframe tbody tr th {\n",
       "        vertical-align: top;\n",
       "    }\n",
       "\n",
       "    .dataframe thead th {\n",
       "        text-align: right;\n",
       "    }\n",
       "</style>\n",
       "<table border=\"1\" class=\"dataframe\">\n",
       "  <thead>\n",
       "    <tr style=\"text-align: right;\">\n",
       "      <th></th>\n",
       "      <th>id_local</th>\n",
       "      <th>municipio</th>\n",
       "      <th>estado</th>\n",
       "      <th>regiao</th>\n",
       "    </tr>\n",
       "  </thead>\n",
       "  <tbody>\n",
       "    <tr>\n",
       "      <th>0</th>\n",
       "      <td>110001</td>\n",
       "      <td>Alta Floresta D'Oeste</td>\n",
       "      <td>RO</td>\n",
       "      <td>Norte</td>\n",
       "    </tr>\n",
       "    <tr>\n",
       "      <th>1</th>\n",
       "      <td>110037</td>\n",
       "      <td>Alto Alegre dos Parecis</td>\n",
       "      <td>RO</td>\n",
       "      <td>Norte</td>\n",
       "    </tr>\n",
       "    <tr>\n",
       "      <th>2</th>\n",
       "      <td>110040</td>\n",
       "      <td>Alto Paraíso</td>\n",
       "      <td>RO</td>\n",
       "      <td>Norte</td>\n",
       "    </tr>\n",
       "    <tr>\n",
       "      <th>3</th>\n",
       "      <td>110034</td>\n",
       "      <td>Alvorada D'Oeste</td>\n",
       "      <td>RO</td>\n",
       "      <td>Norte</td>\n",
       "    </tr>\n",
       "    <tr>\n",
       "      <th>4</th>\n",
       "      <td>110002</td>\n",
       "      <td>Ariquemes</td>\n",
       "      <td>RO</td>\n",
       "      <td>Norte</td>\n",
       "    </tr>\n",
       "    <tr>\n",
       "      <th>...</th>\n",
       "      <td>...</td>\n",
       "      <td>...</td>\n",
       "      <td>...</td>\n",
       "      <td>...</td>\n",
       "    </tr>\n",
       "    <tr>\n",
       "      <th>5565</th>\n",
       "      <td>522200</td>\n",
       "      <td>Vianópolis</td>\n",
       "      <td>GO</td>\n",
       "      <td>Centro-Oeste</td>\n",
       "    </tr>\n",
       "    <tr>\n",
       "      <th>5566</th>\n",
       "      <td>522205</td>\n",
       "      <td>Vicentinópolis</td>\n",
       "      <td>GO</td>\n",
       "      <td>Centro-Oeste</td>\n",
       "    </tr>\n",
       "    <tr>\n",
       "      <th>5567</th>\n",
       "      <td>522220</td>\n",
       "      <td>Vila Boa</td>\n",
       "      <td>GO</td>\n",
       "      <td>Centro-Oeste</td>\n",
       "    </tr>\n",
       "    <tr>\n",
       "      <th>5568</th>\n",
       "      <td>522230</td>\n",
       "      <td>Vila Propício</td>\n",
       "      <td>GO</td>\n",
       "      <td>Centro-Oeste</td>\n",
       "    </tr>\n",
       "    <tr>\n",
       "      <th>5569</th>\n",
       "      <td>530010</td>\n",
       "      <td>Brasília</td>\n",
       "      <td>DF</td>\n",
       "      <td>Centro-Oeste</td>\n",
       "    </tr>\n",
       "  </tbody>\n",
       "</table>\n",
       "<p>5570 rows × 4 columns</p>\n",
       "</div>"
      ],
      "text/plain": [
       "      id_local                municipio estado        regiao\n",
       "0       110001    Alta Floresta D'Oeste     RO         Norte\n",
       "1       110037  Alto Alegre dos Parecis     RO         Norte\n",
       "2       110040             Alto Paraíso     RO         Norte\n",
       "3       110034         Alvorada D'Oeste     RO         Norte\n",
       "4       110002                Ariquemes     RO         Norte\n",
       "...        ...                      ...    ...           ...\n",
       "5565    522200               Vianópolis     GO  Centro-Oeste\n",
       "5566    522205           Vicentinópolis     GO  Centro-Oeste\n",
       "5567    522220                 Vila Boa     GO  Centro-Oeste\n",
       "5568    522230            Vila Propício     GO  Centro-Oeste\n",
       "5569    530010                 Brasília     DF  Centro-Oeste\n",
       "\n",
       "[5570 rows x 4 columns]"
      ]
     },
     "execution_count": 15,
     "metadata": {},
     "output_type": "execute_result"
    }
   ],
   "source": [
    "df_localizacoes"
   ]
  },
  {
   "cell_type": "markdown",
   "id": "a413e17c-61a7-4816-8d77-dc700ce7bf9e",
   "metadata": {},
   "source": [
    "Fazer a inserção no banco de dados"
   ]
  },
  {
   "cell_type": "code",
   "execution_count": 16,
   "id": "1a3312b2-cc62-4a17-b39e-3c830bc89acd",
   "metadata": {},
   "outputs": [],
   "source": [
    "DB_USER = \"postgres\"\n",
    "DB_PASSWORD = \"root\"\n",
    "DB_HOST = \"localhost\"\n",
    "DB_PORT = \"5432\"\n",
    "DB_NAME = \"mortalidades\""
   ]
  },
  {
   "cell_type": "code",
   "execution_count": 17,
   "id": "506c5ff3-28ac-42db-a194-765d29b87582",
   "metadata": {},
   "outputs": [],
   "source": [
    "engine = create_engine(f\"postgresql://{DB_USER}:{DB_PASSWORD}@{DB_HOST}:{DB_PORT}/{DB_NAME}\")"
   ]
  },
  {
   "cell_type": "code",
   "execution_count": 18,
   "id": "5452ee08-a4ee-4b75-91d9-efb2a74f20eb",
   "metadata": {},
   "outputs": [
    {
     "name": "stdout",
     "output_type": "stream",
     "text": [
      "✅ Conectado ao banco mortalidade\n"
     ]
    }
   ],
   "source": [
    "with engine.connect() as conn:\n",
    "    print(\"✅ Conectado ao banco mortalidade\")\n"
   ]
  },
  {
   "cell_type": "code",
   "execution_count": 19,
   "id": "7da16450-4750-49d3-91b0-13a286a4af17",
   "metadata": {},
   "outputs": [],
   "source": [
    "def inserir_dados(df, tabela):\n",
    "    df.to_sql(tabela, con=engine, if_exists=\"append\", index=False)\n",
    "    print(f\"✅ Dados inseridos na tabela {tabela}\")"
   ]
  },
  {
   "cell_type": "code",
   "execution_count": 20,
   "id": "e0e17173-9322-4ffd-b56a-2ddf86377a60",
   "metadata": {},
   "outputs": [
    {
     "name": "stdout",
     "output_type": "stream",
     "text": [
      "✅ Dados inseridos com sucesso na tabela localizacoes!\n"
     ]
    }
   ],
   "source": [
    "# 🔹 **Inserir os Dados no PostgreSQL**\n",
    "df_localizacoes.to_sql(\"localizacoes\", con=engine, if_exists=\"append\", index=False)\n",
    "\n",
    "print(\"✅ Dados inseridos com sucesso na tabela localizacoes!\")"
   ]
  }
 ],
 "metadata": {
  "kernelspec": {
   "display_name": "Python 3 (ipykernel)",
   "language": "python",
   "name": "python3"
  },
  "language_info": {
   "codemirror_mode": {
    "name": "ipython",
    "version": 3
   },
   "file_extension": ".py",
   "mimetype": "text/x-python",
   "name": "python",
   "nbconvert_exporter": "python",
   "pygments_lexer": "ipython3",
   "version": "3.12.8"
  }
 },
 "nbformat": 4,
 "nbformat_minor": 5
}
