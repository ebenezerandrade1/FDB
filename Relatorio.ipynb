{
 "cells": [
  {
   "cell_type": "markdown",
   "id": "b9c74c07-2933-410d-a713-ef49901c45e8",
   "metadata": {},
   "source": [
    "# 📊 Sistema de Informação de Mortalidade - Banco de Dados Relacional\n",
    "\n",
    "##  Introdução\n",
    "\n",
    "Este projeto tem como objetivo a criação de um **banco de dados relacional** para armazenar e analisar informações sobre óbitos, utilizando dados extraídos do Sistema de Informação de Mortalidade (SIM). A implementação inclui **ETL**, **views**, **procedures**, **triggers** e diversas consultas SQL para explorar os dados.\n",
    "\n",
    "## Modelo de Dados Relacional\n",
    "\n",
    "O banco de dados foi estruturado seguindo os princípios da **modelagem relacional**, garantindo **integridade referencial** e **normalização**. O esquema contém as seguintes tabelas:\n",
    "\n",
    "- **`obitos`** - Registros dos óbitos com detalhes como local, hora, causa da morte, entre outros.\n",
    "- **`localizacoes`** - Municípios e estados onde os óbitos ocorreram.\n",
    "- **`causas`** - Código CID e descrição das causas de morte.\n",
    "\n",
    "\n",
    "Diagrama do Modelo Relacional:\n",
    "\n",
    "![Diagrama ER](link_para_diagrama.png)\n",
    "\n",
    "##  Script SQL - Criação do Banco de Dados\n",
    "\n",
    "O banco de dados foi criado utilizando PostgreSQL. O script SQL para criação das tabelas está disponível no arquivo [`mortalidade.sql`](mortalidade.sql).\n",
    "\n"
   ]
  },
  {
   "cell_type": "markdown",
   "id": "dc1d92db-96a2-452b-a7f0-f68ec2a23120",
   "metadata": {},
   "source": [
    "\n",
    "## Processo ETL - Importação dos Dados\n",
    "O processo ETL (Extract, Transform, Load) foi implementado em Python, utilizando as bibliotecas pandas e SQLAlchemy para:\n",
    "\n",
    "Extração: Leitura dos arquivos CSV contendo os registros de óbitos.\n",
    "Transformação: Limpeza e padronização dos dados (conversão de datas, remoção de inconsistências, tratamento de valores nulos).\n",
    "Carga: Inserção dos dados processados no banco PostgreSQL.\n",
    "Exemplo de código para transformação da coluna idade:"
   ]
  },
  {
   "cell_type": "markdown",
   "id": "7dc07d35-9264-4843-82e3-54aed673ffa8",
   "metadata": {},
   "source": [
    "##  Utilização de View\n"
   ]
  },
  {
   "cell_type": "markdown",
   "id": "3a376fd8-0fff-4a5b-ae1c-ad0e95391046",
   "metadata": {},
   "source": [
    "##  Utilização de Procedure\n"
   ]
  },
  {
   "cell_type": "markdown",
   "id": "4169742f-23c7-44a1-8d99-391f8701e5df",
   "metadata": {},
   "source": [
    "##  Utilização de Trigger\n"
   ]
  },
  {
   "cell_type": "markdown",
   "id": "7cbbeb38-f16c-4841-90e1-fb09b797ac52",
   "metadata": {},
   "source": [
    "# Consultas SQL\n",
    "\n",
    "Abaixo estão cinco consultas SQL explorando os dados do banco:\n",
    "\n",
    "## Quantidade de óbitos por município (TOP 10)\n",
    "\n",
    "```sql\n",
    "SELECT l.municipio, COUNT(o.id_obito) AS total_obitos\n",
    "FROM obitos o\n",
    "JOIN localizacoes l ON o.id_local = l.id_local\n",
    "GROUP BY l.municipio\n",
    "ORDER BY total_obitos DESC\n",
    "LIMIT 10;\n",
    "```\n",
    "\n"
   ]
  },
  {
   "cell_type": "markdown",
   "id": "6395531e-a1b4-4ff0-94b2-76dedf850fa2",
   "metadata": {},
   "source": [
    "# Consultas em Álgebra Relacional\n",
    "\n",
    "##  Quantidade de Óbitos por Município (TOP 10)\n",
    "\n",
    "$$\n",
    "\\pi_{\\text{municipio}, \\text{total\\_obitos}} \\left( \\sigma_{\\text{total\\_obitos} \\geq 10} \\left( \\gamma_{\\text{municipio}}^{\\text{COUNT}(id\\_obito) \\rightarrow \\text{total\\_obitos}} \\left( \\text{Obitos} \\bowtie_{\\text{Obitos.id\\_local} = \\text{Localizacoes.id\\_local}} \\text{Localizacoes} \\right) \\right) \\right)\n",
    "$$\n",
    "\n",
    "### **Explicação**:\n",
    "- **\\(⨝\\)** → Junção entre **Óbitos** e **Localizações** baseada no `id_local`.\n",
    "- **\\(γ\\)** → Agrupa por município e conta o número de óbitos.\n",
    "- **\\(σ\\)** → Filtra municípios com pelo menos **10 óbitos**.\n",
    "- **\\(π\\)** → Retorna apenas as colunas **município** e **total_obitos**.\n",
    "\n",
    "---\n",
    "\n",
    "## CID com Maior Número de Mortes\n",
    "\n",
    "$$\n",
    "\\pi_{\\text{codigo\\_cid}, \\text{descricao}, \\text{total\\_obitos}} \\left( \\sigma_{\\text{total\\_obitos} = \\max(\\text{total\\_obitos})} \\left( \\gamma_{\\text{codigo\\_cid}, \\text{descricao}}^{\\text{COUNT}(id\\_obito) \\rightarrow \\text{total\\_obitos}} \\left( \\text{Obitos} \\bowtie_{\\text{Obitos.id\\_causa\\_principal} = \\text{Causas.id\\_causa}} \\text{Causas} \\right) \\right) \\right)\n",
    "$$\n",
    "\n",
    "###  **Explicação**:\n",
    "- **\\(⨝\\)** → Junção entre **Óbitos** e **Causas** baseada no `id_causa`.\n",
    "- **\\(γ\\)** → Agrupa por **CID** e conta o número de óbitos.\n",
    "- **\\(σ\\)** → Filtra apenas o CID com **maior número de mortes**.\n",
    "- **\\(π\\)** → Retorna **código CID**, **descrição** e **total de óbitos**.\n",
    "\n",
    "---\n",
    "\n",
    "## Média de Idade dos Falecidos por Região\n",
    "\n",
    "$$\n",
    "\\pi_{\\text{regiao}, \\text{media\\_idade}} \\left( \\gamma_{\\text{regiao}}^{\\text{AVG}(idade) \\rightarrow \\text{media\\_idade}} \\left( \\text{Obitos} \\bowtie_{\\text{Obitos.id\\_local} = \\text{Localizacoes.id\\_local}} \\text{Localizacoes} \\right) \\right)\n",
    "$$\n",
    "\n",
    "### **Explicação**:\n",
    "- **\\(⨝\\)** → Junção entre **Óbitos** e **Localizações** baseada no `id_local`.\n",
    "- **\\(γ\\)** → Agrupa por **região** e calcula a média da idade.\n",
    "- **\\(π\\)** → Retorna apenas as colunas **região** e **média de idade**.\n",
    "\n",
    "---\n",
    "\n",
    " Notação formal de **Álgebra Relacional**:\n",
    "- **Seleção** \\(σ\\)\n",
    "- **Projeção** \\(π\\)\n",
    "- **Junção** \\(⨝\\)\n",
    "- **Agregação** \\(γ\\)\n",
    "\n",
    "\n"
   ]
  }
 ],
 "metadata": {
  "kernelspec": {
   "display_name": "Python 3 (ipykernel)",
   "language": "python",
   "name": "python3"
  },
  "language_info": {
   "codemirror_mode": {
    "name": "ipython",
    "version": 3
   },
   "file_extension": ".py",
   "mimetype": "text/x-python",
   "name": "python",
   "nbconvert_exporter": "python",
   "pygments_lexer": "ipython3",
   "version": "3.12.3"
  }
 },
 "nbformat": 4,
 "nbformat_minor": 5
}
